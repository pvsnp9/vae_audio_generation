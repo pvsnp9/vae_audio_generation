{
 "cells": [
  {
   "cell_type": "markdown",
   "metadata": {},
   "source": [
    "Music generation using VAE"
   ]
  },
  {
   "cell_type": "code",
   "execution_count": 1,
   "metadata": {},
   "outputs": [],
   "source": [
    "from utils import *\n",
    "from hyperparams import RawHyperParams\n",
    "import os \n",
    "import random\n",
    "import logging\n",
    "import torch\n",
    "import json\n",
    "from dataclasses import asdict\n",
    "import torch.nn as nn \n",
    "import torch.optim as optim\n",
    "import torchaudio as taudio\n",
    "import matplotlib.pyplot as plt\n",
    "\n",
    "from typing import Tuple, Callable\n",
    "from earlystopping import EarlyStopping\n",
    "from resnetvae import ResenetVAE\n",
    "from raw_audio_dataloader import get_train_val_loaders"
   ]
  },
  {
   "cell_type": "code",
   "execution_count": 2,
   "metadata": {},
   "outputs": [],
   "source": [
    "hyper_params = RawHyperParams()"
   ]
  },
  {
   "cell_type": "markdown",
   "metadata": {},
   "source": [
    "Audio preprocessing "
   ]
  },
  {
   "cell_type": "code",
   "execution_count": 3,
   "metadata": {},
   "outputs": [
    {
     "name": "stdout",
     "output_type": "stream",
     "text": [
      "filename: data/genres_original/jazz/jazz.00009.wav | sampling rate: 22050 | channels: 1 | duration: 30.013333333333332\n"
     ]
    }
   ],
   "source": [
    "genres = \"jazz\"\n",
    "blues_path = f\"{HyperParams.data_genres_original_dir}/{genres}\"\n",
    "rand = random.randint(0,9)\n",
    "audio_path = os.path.join(blues_path, f\"{genres}.0000{rand}.wav\")\n",
    "sr, channels, duration = get_audio_metadata(audio_path)\n",
    "print(f\"filename: {audio_path} | sampling rate: {sr} | channels: {channels} | duration: {duration}\")"
   ]
  },
  {
   "cell_type": "code",
   "execution_count": 4,
   "metadata": {},
   "outputs": [
    {
     "data": {
      "image/png": "[encoded data removed]",
      "text/plain": [
       "<Figure size 864x216 with 1 Axes>"
      ]
     },
     "metadata": {
      "needs_background": "light"
     },
     "output_type": "display_data"
    }
   ],
   "source": [
    "waveform, sr = taudio.load(audio_path)\n",
    "plt.figure(figsize=(12, 3))\n",
    "plt.plot(waveform.t().numpy())\n",
    "plt.title(\"Waveform of Jazz Audio\")\n",
    "plt.xlabel(\"Samples\")\n",
    "plt.ylabel(\"Amplitude\")\n",
    "plt.show()"
   ]
  },
  {
   "cell_type": "markdown",
   "metadata": {},
   "source": [
    "Since we have large data dimension for each audio, lets convert it to spectrogram. "
   ]
  },
  {
   "cell_type": "code",
   "execution_count": 5,
   "metadata": {},
   "outputs": [],
   "source": [
    "create_spectrogram = False\n",
    "if create_spectrogram:\n",
    "    convert_audio_to_spectrogram(\n",
    "    root_dir=hyper_params.data_genres_original_dir,\n",
    "    save_dir=hyper_params.spectrogram_data_dir,\n",
    "    sample_rate=hyper_params.sampling_rate,\n",
    "    duration=hyper_params.duration,\n",
    "    n_fft=hyper_params.n_fft,\n",
    "    hop_length=hyper_params.hop_length,\n",
    "    n_mels=hyper_params.n_mels\n",
    ")"
   ]
  },
  {
   "cell_type": "code",
   "execution_count": 6,
   "metadata": {},
   "outputs": [
    {
     "name": "stdout",
     "output_type": "stream",
     "text": [
      "Skipping corrupt file: data/genres_original/jazz/jazz.00054.wav - Failed to fetch metadata from data/genres_original/jazz/jazz.00054.wav\n",
      "Mean: -3.4024571505142376e-05 Min value: -1.0509631633758545, Max value: 1.0690301656723022, Batch shape:torch.Size([32, 1, 90000])\n"
     ]
    }
   ],
   "source": [
    "train_loader, val_loader = get_train_val_loaders(raw_hp=hyper_params)\n",
    "\n",
    "test_spctro, lable_spectro = next(iter(train_loader))\n",
    "\n",
    "# test_spctro.size()\n",
    "print(f\"Mean: {test_spctro.mean()} Min value: {test_spctro.min()}, Max value: {test_spctro.max()}, Batch shape:{test_spctro.size()}\")"
   ]
  },
  {
   "cell_type": "code",
   "execution_count": 7,
   "metadata": {},
   "outputs": [
    {
     "name": "stdout",
     "output_type": "stream",
     "text": [
      "Train Global min value: -1.2029222249984741\n",
      "Train Global max value: 1.188461184501648\n",
      "Val Global min value: -1.1181559562683105\n",
      "Val Global max value: 1.1258630752563477\n"
     ]
    }
   ],
   "source": [
    "global_min = float('inf')\n",
    "global_max = float('-inf')\n",
    "\n",
    "for images, labels in train_loader:\n",
    "    # Compute min and max for the current batch\n",
    "    batch_min = images.min()\n",
    "    batch_max = images.max()\n",
    "    \n",
    "    # Update global min and max\n",
    "    global_min = min(global_min, batch_min.item())\n",
    "    global_max = max(global_max, batch_max.item())\n",
    "\n",
    "print(\"Train Global min value:\", global_min)\n",
    "print(\"Train Global max value:\", global_max)\n",
    "\n",
    "global_min = float('inf')\n",
    "global_max = float('-inf')\n",
    "\n",
    "\n",
    "for images, labels in val_loader:\n",
    "    # Compute min and max for the current batch\n",
    "    batch_min = images.min()\n",
    "    batch_max = images.max()\n",
    "    \n",
    "    # Update global min and max\n",
    "    global_min = min(global_min, batch_min.item())\n",
    "    global_max = max(global_max, batch_max.item())\n",
    "\n",
    "print(\"Val Global min value:\", global_min)\n",
    "print(\"Val Global max value:\", global_max)"
   ]
  },
  {
   "cell_type": "code",
   "execution_count": 8,
   "metadata": {},
   "outputs": [
    {
     "name": "stdout",
     "output_type": "stream",
     "text": [
      "Train dataset: 800, Val dataser: 199\n"
     ]
    }
   ],
   "source": [
    "print(f\"Train dataset: {len(train_loader.dataset)}, Val dataser: {len(val_loader.dataset)}\")"
   ]
  },
  {
   "cell_type": "markdown",
   "metadata": {},
   "source": [
    "Training and Validating model "
   ]
  },
  {
   "cell_type": "code",
   "execution_count": 9,
   "metadata": {},
   "outputs": [],
   "source": [
    "# Criterion is assumed to be a callable that accepts:\n",
    "# (reconstruction, target, mu, logvar) -> (total_loss, mse_loss, kl_loss)\n",
    "CriterionType = Callable[[torch.Tensor, torch.Tensor, torch.Tensor, torch.Tensor],\n",
    "                           Tuple[torch.Tensor, torch.Tensor, torch.Tensor]]\n",
    "\n",
    "def validate(model: ResenetVAE, val_loader: DataLoader, criterion: CriterionType, device: torch.device) -> Tuple[float, float, float]:\n",
    "    model.eval()\n",
    "    total_mse_loss: float = 0.0\n",
    "    total_kl_loss: float = 0.0 \n",
    "    total_loss: float = 0.0\n",
    "\n",
    "    with torch.no_grad():\n",
    "        for inputs, _ in val_loader:\n",
    "            inputs = inputs.to(device)\n",
    "            recon, mu, log_var = model(inputs)\n",
    "            loss, mse_loss, kl_loss = criterion(inputs, recon , mu, log_var)\n",
    "            \n",
    "            total_mse_loss += mse_loss.item()\n",
    "            total_kl_loss += kl_loss.item()\n",
    "            total_loss += loss.item()\n",
    "    \n",
    "    avg_total_loss: float = total_loss / len(val_loader)\n",
    "    avg_mse_loss: float = total_mse_loss / len(val_loader)\n",
    "    avg_kl_loss: float = total_kl_loss / len(val_loader)\n",
    "\n",
    "    return avg_total_loss, avg_mse_loss, avg_kl_loss\n",
    "\n",
    "\n",
    "\n",
    "def train(model: ResenetVAE, train_loader: DataLoader, val_loader: DataLoader, criterion: CriterionType, optimizer: optim.Optimizer, hp: RawHyperParams, es: EarlyStopping) -> None:\n",
    "    logs: list[dict] = []\n",
    "    model.to(hp.device)\n",
    "    print(f\"Training model on {hp.device}\")\n",
    "    \n",
    "    for epoch in range(hp.num_epochs):\n",
    "        model.train()\n",
    "        train_mse: float = 0.0\n",
    "        train_kl: float = 0.0 \n",
    "        train_total: float = 0.0 \n",
    "\n",
    "        for batch_idx, (inputs, _) in enumerate(train_loader):\n",
    "            inputs = inputs.to(hp.device)\n",
    "            optimizer.zero_grad()\n",
    "\n",
    "            recon, mu, log_var = model(inputs)\n",
    "            loss, mse_loss, kl_loss = criterion(inputs, recon , mu, log_var)\n",
    "            loss.backward()            \n",
    "            optimizer.step()\n",
    "\n",
    "            train_mse += mse_loss.item()\n",
    "            train_kl += kl_loss.item()\n",
    "            train_total += loss.item()\n",
    "            \n",
    "            if batch_idx % 50 == 0:\n",
    "                print(f\"[B: {batch_idx}] ==> Latent stats: μ={mu.mean().item():.3f}±{mu.std().item():.3f}, logσ²={log_var.mean().item():.3f}\")\n",
    "        # Compute averages over training batches.\n",
    "        train_total /= len(train_loader)\n",
    "        train_mse   /= len(train_loader)\n",
    "        train_kl    /= len(train_loader)\n",
    "        \n",
    "        # Evaluate on the validation set.\n",
    "        val_total, val_mse, val_kl = validate(model, val_loader, criterion, hp.device)\n",
    "\n",
    "        log_data = {\n",
    "            \"epoch\": epoch,\n",
    "            \"train_mse_loss\": train_mse,\n",
    "            \"train_kl_loss\": train_kl,\n",
    "            \"train_total_loss\": train_total,\n",
    "            \"val_mse_loss\": val_mse,\n",
    "            \"val_kl_loss\": val_kl,\n",
    "            \"val_total_loss\": val_total\n",
    "        }\n",
    "        logs.append(log_data)\n",
    "\n",
    "        print(f\"Epoch {epoch} | Train Loss: {train_total:.4f} | Val Loss: {val_total:.4f}\")\n",
    "\n",
    "        es(val_loss=val_total, model=model, model_dir=hp.model_dir, model_file_name=hp.model_file_name)\n",
    "        if es.early_stop: \n",
    "            print(\"Early stop triggered !!\")\n",
    "            break\n",
    "    \n",
    "    # Save training logs to a JSON file.\n",
    "    os.makedirs(hp.log_dir, exist_ok=True)\n",
    "    log_path = os.path.join(hp.log_dir, hp.train_log_file)\n",
    "    with open(log_path, 'w') as f:\n",
    "        json.dump(logs, f, indent=4)\n",
    "    \n",
    "    print(f\"Training logs saved to {log_path}\")\n"
   ]
  },
  {
   "cell_type": "code",
   "execution_count": 10,
   "metadata": {},
   "outputs": [
    {
     "name": "stdout",
     "output_type": "stream",
     "text": [
      "Hyperparams:\n",
      " {'device': device(type='cuda'), 'batch_size': 32, 'validation_size': 0.2, 'num_blocks': 2, 'latent_dim': 32, 'input_size': (90000, 1), 'input_channels': 1, 'input_length': 90000, 'hidden_dims': (16, 32, 64), 'lr': 1e-05, 'num_epochs': 50, 'block_type_encoder': 'encoder', 'block_type_decoder': 'decoder', 'data_root_dir': 'data', 'data_genres_original_dir': 'data/genres_original', 'data_images_original_dir': 'data/images_original', 'spectrogram_data_dir': 'data/spectrograms', 'model_dir': 'models', 'model_file_name': 'resenet_vae.pth', 'output_dir': 'outputs', 'output_audio_dir': 'outputs/audio', 'log_dir': 'log', 'train_log_file': 'trainlog.json', 'sampling_rate': 3000, 'duration': 30, 'offset': 0.0}\n"
     ]
    }
   ],
   "source": [
    "print(f\"Hyperparams:\\n {asdict(hyper_params)}\")"
   ]
  },
  {
   "cell_type": "code",
   "execution_count": 11,
   "metadata": {},
   "outputs": [
    {
     "name": "stdout",
     "output_type": "stream",
     "text": [
      "Model parameters: 69927038\n",
      "ResenetVAE(\n",
      "  (encoder): Sequential(\n",
      "    (0): Resnet1dBlock(\n",
      "      (activation): ReLU(inplace=True)\n",
      "      (block): Sequential(\n",
      "        (0): Conv1d(1, 16, kernel_size=(3,), stride=(2,), padding=(1,))\n",
      "        (1): BatchNorm1d(16, eps=1e-05, momentum=0.1, affine=True, track_running_stats=True)\n",
      "        (2): ReLU(inplace=True)\n",
      "        (3): Conv1d(16, 16, kernel_size=(3,), stride=(1,), padding=(1,))\n",
      "        (4): BatchNorm1d(16, eps=1e-05, momentum=0.1, affine=True, track_running_stats=True)\n",
      "      )\n",
      "      (downsample): Sequential(\n",
      "        (0): Conv1d(1, 16, kernel_size=(1,), stride=(2,))\n",
      "        (1): BatchNorm1d(16, eps=1e-05, momentum=0.1, affine=True, track_running_stats=True)\n",
      "      )\n",
      "    )\n",
      "    (1): Resnet1dBlock(\n",
      "      (activation): ReLU(inplace=True)\n",
      "      (block): Sequential(\n",
      "        (0): Conv1d(16, 32, kernel_size=(3,), stride=(2,), padding=(1,))\n",
      "        (1): BatchNorm1d(32, eps=1e-05, momentum=0.1, affine=True, track_running_stats=True)\n",
      "        (2): ReLU(inplace=True)\n",
      "        (3): Conv1d(32, 32, kernel_size=(3,), stride=(1,), padding=(1,))\n",
      "        (4): BatchNorm1d(32, eps=1e-05, momentum=0.1, affine=True, track_running_stats=True)\n",
      "      )\n",
      "      (downsample): Sequential(\n",
      "        (0): Conv1d(16, 32, kernel_size=(1,), stride=(2,))\n",
      "        (1): BatchNorm1d(32, eps=1e-05, momentum=0.1, affine=True, track_running_stats=True)\n",
      "      )\n",
      "    )\n",
      "    (2): Resnet1dBlock(\n",
      "      (activation): ReLU(inplace=True)\n",
      "      (block): Sequential(\n",
      "        (0): Conv1d(32, 64, kernel_size=(3,), stride=(2,), padding=(1,))\n",
      "        (1): BatchNorm1d(64, eps=1e-05, momentum=0.1, affine=True, track_running_stats=True)\n",
      "        (2): ReLU(inplace=True)\n",
      "        (3): Conv1d(64, 64, kernel_size=(3,), stride=(1,), padding=(1,))\n",
      "        (4): BatchNorm1d(64, eps=1e-05, momentum=0.1, affine=True, track_running_stats=True)\n",
      "      )\n",
      "      (downsample): Sequential(\n",
      "        (0): Conv1d(32, 64, kernel_size=(1,), stride=(2,))\n",
      "        (1): BatchNorm1d(64, eps=1e-05, momentum=0.1, affine=True, track_running_stats=True)\n",
      "      )\n",
      "    )\n",
      "  )\n",
      "  (fc_mu): Linear(in_features=720000, out_features=32, bias=True)\n",
      "  (fc_logvar): Linear(in_features=720000, out_features=32, bias=True)\n",
      "  (fc_decoder): Linear(in_features=32, out_features=720000, bias=True)\n",
      "  (decoder): Sequential(\n",
      "    (0): Resnet1dBlock(\n",
      "      (activation): ReLU(inplace=True)\n",
      "      (block): Sequential(\n",
      "        (0): ConvTranspose1d(64, 32, kernel_size=(3,), stride=(2,), padding=(1,))\n",
      "        (1): BatchNorm1d(32, eps=1e-05, momentum=0.1, affine=True, track_running_stats=True)\n",
      "        (2): ReLU(inplace=True)\n",
      "        (3): ConvTranspose1d(32, 32, kernel_size=(3,), stride=(1,), padding=(1,))\n",
      "        (4): BatchNorm1d(32, eps=1e-05, momentum=0.1, affine=True, track_running_stats=True)\n",
      "      )\n",
      "      (downsample): Sequential(\n",
      "        (0): ConvTranspose1d(64, 32, kernel_size=(1,), stride=(2,))\n",
      "        (1): BatchNorm1d(32, eps=1e-05, momentum=0.1, affine=True, track_running_stats=True)\n",
      "      )\n",
      "    )\n",
      "    (1): Resnet1dBlock(\n",
      "      (activation): ReLU(inplace=True)\n",
      "      (block): Sequential(\n",
      "        (0): ConvTranspose1d(32, 16, kernel_size=(3,), stride=(2,), padding=(1,))\n",
      "        (1): BatchNorm1d(16, eps=1e-05, momentum=0.1, affine=True, track_running_stats=True)\n",
      "        (2): ReLU(inplace=True)\n",
      "        (3): ConvTranspose1d(16, 16, kernel_size=(3,), stride=(1,), padding=(1,))\n",
      "        (4): BatchNorm1d(16, eps=1e-05, momentum=0.1, affine=True, track_running_stats=True)\n",
      "      )\n",
      "      (downsample): Sequential(\n",
      "        (0): ConvTranspose1d(32, 16, kernel_size=(1,), stride=(2,))\n",
      "        (1): BatchNorm1d(16, eps=1e-05, momentum=0.1, affine=True, track_running_stats=True)\n",
      "      )\n",
      "    )\n",
      "  )\n",
      "  (final_layer): Conv1d(16, 1, kernel_size=(1,), stride=(1,))\n",
      "  (adjust_layer): ConvTranspose1d(1, 1, kernel_size=(45004,), stride=(1,))\n",
      ")\n"
     ]
    }
   ],
   "source": [
    "model = ResenetVAE(hyperparams=hyper_params)\n",
    "total_params = sum(p.numel() for p in model.parameters())\n",
    "print(f\"Model parameters: {total_params}\")\n",
    "print(model)"
   ]
  },
  {
   "cell_type": "code",
   "execution_count": 13,
   "metadata": {},
   "outputs": [
    {
     "name": "stdout",
     "output_type": "stream",
     "text": [
      "Checkpoint loaded from: models/resenet_vae.pth\n",
      "Saved generated sample to outputs/audio/gen_audio_20250226_175846_0.wav\n",
      "Saved generated sample to outputs/audio/gen_audio_20250226_175846_1.wav\n",
      "Saved generated sample to outputs/audio/gen_audio_20250226_175846_2.wav\n",
      "Saved generated sample to outputs/audio/gen_audio_20250226_175846_3.wav\n",
      "Saved generated sample to outputs/audio/gen_audio_20250226_175846_4.wav\n"
     ]
    },
    {
     "data": {
      "image/png": "[encoded data removed]",
      "text/plain": [
       "<Figure size 720x288 with 1 Axes>"
      ]
     },
     "metadata": {
      "needs_background": "light"
     },
     "output_type": "display_data"
    }
   ],
   "source": [
    "optimizer = optim.Adam(model.parameters(), lr = hyper_params.lr)\n",
    "es = EarlyStopping(patience=5, min_delta=0.001)\n",
    "\n",
    "set_train = False\n",
    "load_and_train = False\n",
    "\n",
    "if set_train:\n",
    "    train(model=model, train_loader=train_loader, val_loader=val_loader, criterion=vae_loss, optimizer=optimizer, hp=hyper_params, es=es)\n",
    "\n",
    "elif load_and_train:\n",
    "    print(f\"loading the model  from: {hyper_params.model_dir}/{hyper_params.model_file_name}\")\n",
    "    model.load_checkpoint(f\"{hyper_params.model_dir}/{hyper_params.model_file_name}\", hyper_params.device)\n",
    "    train(model=model, train_loader=train_loader, val_loader=val_loader, criterion=vae_loss, optimizer=optimizer, hp=hyper_params, es=es)\n",
    "\n",
    "else: model.load_checkpoint(f\"{hyper_params.model_dir}/{hyper_params.model_file_name}\", hyper_params.device)\n",
    "# model.load_checkpoint(f\"{hyper_params.model_dir}/{hyper_params.model_file_name}\", hyper_params.device)\n",
    "generated_audio = model.generate(hp=hyper_params, num_samples=5)\n",
    "plot_generated_audio(generated_audio, sample_rate=hyper_params.sampling_rate)"
   ]
  },
  {
   "cell_type": "markdown",
   "metadata": {},
   "source": []
  },
  {
   "cell_type": "markdown",
   "metadata": {},
   "source": []
  },
  {
   "cell_type": "markdown",
   "metadata": {},
   "source": []
  },
  {
   "cell_type": "markdown",
   "metadata": {},
   "source": []
  },
  {
   "cell_type": "markdown",
   "metadata": {},
   "source": [
    "### 1. Audio Fundamentals\n",
    "\n",
    "#### **Digital Audio Basics**\n",
    "- **Sampling Rate:**  \n",
    "  The number of samples taken per second (measured in Hertz). For music, common rates include 22.05 kHz, 44.1 kHz, or higher. A higher sampling rate can capture more detail but increases data size.\n",
    "- **Bit Depth:**  \n",
    "  Determines the resolution or dynamic range of each sample (e.g., 16-bit, 24-bit). Higher bit depth improves audio fidelity.\n",
    "- **Time-Domain Representation:**  \n",
    "  The raw waveform that shows amplitude changes over time.\n",
    "\n",
    "#### **Frequency-Domain Representation**\n",
    "- **Fourier Transform:**  \n",
    "  Converts time-domain signals into frequency components. This is key to analyzing and processing musical content.\n",
    "- **Short-Time Fourier Transform (STFT):**  \n",
    "  Applies the Fourier transform over short overlapping windows. This produces a time-frequency representation known as a spectrogram.\n",
    "- **Spectrogram:**  \n",
    "  A visual representation of the spectrum of frequencies in a signal as they vary with time. It’s widely used as input for deep models.\n",
    "- **Mel Scale & Mel Spectrogram:**  \n",
    "  The Mel scale is a perceptual scale of pitches judged by listeners to be equal in distance. A Mel spectrogram maps the frequencies to this scale, often used in music and speech tasks.\n",
    "- **MFCC (Mel-Frequency Cepstral Coefficients):**  \n",
    "  These coefficients capture the timbral texture of audio, summarizing the spectral envelope and are often used in classification tasks.\n",
    "\n",
    "\n",
    "### 2. Preprocessing Steps\n",
    "\n",
    "#### **A. Loading and Resampling**\n",
    "- **Loading Audio:**  \n",
    "  Use libraries such as [Librosa](https://librosa.org/) or PyDub to load audio files. Audio is typically loaded as a time series array.\n",
    "- **Resampling:**  \n",
    "  Ensure all audio samples have the same sampling rate. Resampling is important for consistency across your dataset.\n",
    "\n",
    "\n",
    "#### **B. Normalization and Standardization**\n",
    "- **Amplitude Normalization:**  \n",
    "  Scale the waveform so that its values lie within a specific range (e.g., -1 to 1). This helps the model learn without being skewed by large variations in volume.\n",
    "- **Standardization:**  \n",
    "  Adjust the signal to have zero mean and unit variance, which can be beneficial for certain neural network architectures.\n",
    "\n",
    "\n",
    "#### **C. Windowing and Framing**\n",
    "- **Framing:**  \n",
    "  Divide the audio signal into short frames (e.g., 20-40 ms). This is critical when computing STFT since audio properties are often assumed to be stationary over short periods.\n",
    "- **Windowing:**  \n",
    "  Apply a window function (like Hann or Hamming) to each frame to reduce spectral leakage when performing Fourier analysis.\n",
    "\n",
    "#### **D. Feature Extraction**\n",
    "- **STFT and Spectrogram:**  \n",
    "  Compute the STFT to convert your signal into a 2D time-frequency representation. Then take the magnitude (absolute value) to obtain the spectrogram.\n",
    "- **Mel Spectrogram:**  \n",
    "  Transform the spectrogram onto the Mel scale. This often aligns better with human auditory perception.\n",
    "- **MFCCs:**  \n",
    "  Optionally, compute MFCCs if your generative model benefits from compact representations of timbre.\n",
    "\n",
    "\n",
    "#### **E. Data Augmentation (Optional)**\n",
    "- **Noise Injection:**  \n",
    "  Adding small amounts of noise can help the model generalize.\n",
    "- **Time Stretching & Pitch Shifting:**  \n",
    "  These techniques increase dataset diversity by simulating variations in speed and pitch.\n",
    "\n",
    "\n",
    "### 3. Considerations for Deep Generative Models\n",
    "\n",
    "- **Representation Choice:**  \n",
    "  Decide whether to use raw waveforms or transformed representations (spectrograms, Mel spectrograms, or MFCCs).  \n",
    "  - **Raw Waveforms:** Offer all information including phase but are high-dimensional.\n",
    "  - **Spectrograms/Mel Spectrograms:** Reduce dimensionality and can highlight perceptually relevant features.\n",
    "- **Phase Information:**  \n",
    "  Some generative models (like WaveNet) work directly on waveforms and implicitly model phase, while models based on spectrograms often need phase reconstruction (using techniques like the Griffin-Lim algorithm) to convert back to time-domain audio.\n",
    "- **Model Input Size:**  \n",
    "  Ensure your preprocessed data has consistent dimensions. This may involve trimming, padding, or segmenting the audio into fixed-length excerpts.\n",
    "\n",
    "\n",
    "### 4. Summary\n",
    "\n",
    "In summary, the preprocessing pipeline typically includes:\n",
    "1. **Loading audio** with a consistent sampling rate.\n",
    "2. **Normalizing** the amplitude of the waveform.\n",
    "3. **Windowing and framing** the signal for time-frequency analysis.\n",
    "4. **Extracting features** such as spectrograms, Mel spectrograms, or MFCCs.\n",
    "5. Optionally applying **data augmentation** techniques to enrich your dataset.\n",
    "\n",
    "By transforming the raw audio into these structured representations, we prepare the data for training deep generative models effectively, capturing both temporal and spectral nuances essential for realistic music generation.\n"
   ]
  },
  {
   "cell_type": "markdown",
   "metadata": {},
   "source": []
  }
 ],
 "metadata": {
  "kernelspec": {
   "display_name": "delta",
   "language": "python",
   "name": "python3"
  },
  "language_info": {
   "codemirror_mode": {
    "name": "ipython",
    "version": 3
   },
   "file_extension": ".py",
   "mimetype": "text/x-python",
   "name": "python",
   "nbconvert_exporter": "python",
   "pygments_lexer": "ipython3",
   "version": "3.9.9"
  }
 },
 "nbformat": 4,
 "nbformat_minor": 2
}
